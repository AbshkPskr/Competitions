{
  "nbformat": 4,
  "nbformat_minor": 0,
  "metadata": {
    "colab": {
      "name": "Job-A-Thon.ipynb",
      "provenance": [],
      "collapsed_sections": [],
      "authorship_tag": "ABX9TyM9PBR8ibIQActb7KPAofIO",
      "include_colab_link": true
    },
    "kernelspec": {
      "name": "python3",
      "display_name": "Python 3"
    }
  },
  "cells": [
    {
      "cell_type": "markdown",
      "metadata": {
        "id": "view-in-github",
        "colab_type": "text"
      },
      "source": [
        "<a href=\"https://colab.research.google.com/github/AbshkPskr/Competitions-Files/blob/main/Job_A_Thon.ipynb\" target=\"_parent\"><img src=\"https://colab.research.google.com/assets/colab-badge.svg\" alt=\"Open In Colab\"/></a>"
      ]
    },
    {
      "cell_type": "code",
      "metadata": {
        "id": "dsWpkpG35dy3"
      },
      "source": [
        "# import requests\r\n",
        "# from urllib.request import urlopen\r\n",
        "\r\n",
        "# url = \"https://datahack.analyticsvidhya.com/contest/job-a-thon/download/train-file\"\r\n",
        "# myHeaders = {'User-Agent': 'Mozilla/5.0 (X11; Linux x86_64) AppleWebKit/537.36 (KHTML, like Gecko) Chrome/55.0.2883.87 Safari/537.36',\r\n",
        "#              'Referer': 'https://www.nseindia.com', 'Accept': 'text/html,application/xhtml+xml,application/xml;q=0.9,image/webp,*/*;q=0.8'}\r\n",
        "# r  = requests.get(url, headers=myHeaders)\r\n",
        "# open('data.csv', 'wb').write(r.content)"
      ],
      "execution_count": null,
      "outputs": []
    },
    {
      "cell_type": "markdown",
      "metadata": {
        "id": "3nLOg2SgRpgx"
      },
      "source": [
        "#train dataset"
      ]
    },
    {
      "cell_type": "code",
      "metadata": {
        "id": "U4B5ZK-O43TO"
      },
      "source": [
        "import numpy as np\r\n",
        "import pandas as pd\r\n",
        "import matplotlib.pyplot as plt\r\n",
        "import seaborn as sns\r\n",
        "from sklearn import preprocessing \r\n",
        "label_encoder = preprocessing.LabelEncoder() "
      ],
      "execution_count": null,
      "outputs": []
    },
    {
      "cell_type": "code",
      "metadata": {
        "id": "qGFwkQdr5zAc"
      },
      "source": [
        "data = pd.read_csv(\"https://raw.githubusercontent.com/AbshkPskr/Competitions/main/train_Df64byy.csv\")\r\n",
        "# data = pd.read_csv(\"train_Df64byy.csv\")"
      ],
      "execution_count": null,
      "outputs": []
    },
    {
      "cell_type": "code",
      "metadata": {
        "colab": {
          "base_uri": "https://localhost:8080/"
        },
        "id": "3K3_J-7h8v0y",
        "outputId": "25362294-2f0d-48a5-8255-89f9cfd588e0"
      },
      "source": [
        "data.nunique()"
      ],
      "execution_count": null,
      "outputs": [
        {
          "output_type": "execute_result",
          "data": {
            "text/plain": [
              "ID                         50882\n",
              "City_Code                     36\n",
              "Region_Code                 5316\n",
              "Accomodation_Type              2\n",
              "Reco_Insurance_Type            2\n",
              "Upper_Age                     58\n",
              "Lower_Age                     60\n",
              "Is_Spouse                      2\n",
              "Health Indicator               9\n",
              "Holding_Policy_Duration       15\n",
              "Holding_Policy_Type            4\n",
              "Reco_Policy_Cat               22\n",
              "Reco_Policy_Premium         6977\n",
              "Response                       2\n",
              "dtype: int64"
            ]
          },
          "metadata": {
            "tags": []
          },
          "execution_count": 127
        }
      ]
    },
    {
      "cell_type": "code",
      "metadata": {
        "colab": {
          "base_uri": "https://localhost:8080/"
        },
        "id": "dZq-0gg5AAAk",
        "outputId": "30bfb4be-68ca-4b59-b8c6-1aa7a9dd954d"
      },
      "source": [
        "data.Response.value_counts()"
      ],
      "execution_count": null,
      "outputs": [
        {
          "output_type": "execute_result",
          "data": {
            "text/plain": [
              "0    38673\n",
              "1    12209\n",
              "Name: Response, dtype: int64"
            ]
          },
          "metadata": {
            "tags": []
          },
          "execution_count": 128
        }
      ]
    },
    {
      "cell_type": "code",
      "metadata": {
        "id": "m5NBhSZYAib-"
      },
      "source": [
        "missing_values = data.isna().sum().to_dict()\r\n",
        "rows=data.shape[0]"
      ],
      "execution_count": null,
      "outputs": []
    },
    {
      "cell_type": "code",
      "metadata": {
        "colab": {
          "base_uri": "https://localhost:8080/",
          "height": 483
        },
        "id": "oDjk0Y5yG2b7",
        "outputId": "e0700564-af17-497d-da7b-5e068f1df319"
      },
      "source": [
        "miss = pd.DataFrame(columns=[\"Missing data percentage\"])\r\n",
        "for k in missing_values:\r\n",
        "    v = ((missing_values[k])/rows)*100\r\n",
        "    miss.loc[k] = v \r\n",
        "\r\n",
        "miss"
      ],
      "execution_count": null,
      "outputs": [
        {
          "output_type": "execute_result",
          "data": {
            "text/html": [
              "<div>\n",
              "<style scoped>\n",
              "    .dataframe tbody tr th:only-of-type {\n",
              "        vertical-align: middle;\n",
              "    }\n",
              "\n",
              "    .dataframe tbody tr th {\n",
              "        vertical-align: top;\n",
              "    }\n",
              "\n",
              "    .dataframe thead th {\n",
              "        text-align: right;\n",
              "    }\n",
              "</style>\n",
              "<table border=\"1\" class=\"dataframe\">\n",
              "  <thead>\n",
              "    <tr style=\"text-align: right;\">\n",
              "      <th></th>\n",
              "      <th>Missing data percentage</th>\n",
              "    </tr>\n",
              "  </thead>\n",
              "  <tbody>\n",
              "    <tr>\n",
              "      <th>ID</th>\n",
              "      <td>0.000000</td>\n",
              "    </tr>\n",
              "    <tr>\n",
              "      <th>City_Code</th>\n",
              "      <td>0.000000</td>\n",
              "    </tr>\n",
              "    <tr>\n",
              "      <th>Region_Code</th>\n",
              "      <td>0.000000</td>\n",
              "    </tr>\n",
              "    <tr>\n",
              "      <th>Accomodation_Type</th>\n",
              "      <td>0.000000</td>\n",
              "    </tr>\n",
              "    <tr>\n",
              "      <th>Reco_Insurance_Type</th>\n",
              "      <td>0.000000</td>\n",
              "    </tr>\n",
              "    <tr>\n",
              "      <th>Upper_Age</th>\n",
              "      <td>0.000000</td>\n",
              "    </tr>\n",
              "    <tr>\n",
              "      <th>Lower_Age</th>\n",
              "      <td>0.000000</td>\n",
              "    </tr>\n",
              "    <tr>\n",
              "      <th>Is_Spouse</th>\n",
              "      <td>0.000000</td>\n",
              "    </tr>\n",
              "    <tr>\n",
              "      <th>Health Indicator</th>\n",
              "      <td>22.976691</td>\n",
              "    </tr>\n",
              "    <tr>\n",
              "      <th>Holding_Policy_Duration</th>\n",
              "      <td>39.799929</td>\n",
              "    </tr>\n",
              "    <tr>\n",
              "      <th>Holding_Policy_Type</th>\n",
              "      <td>39.799929</td>\n",
              "    </tr>\n",
              "    <tr>\n",
              "      <th>Reco_Policy_Cat</th>\n",
              "      <td>0.000000</td>\n",
              "    </tr>\n",
              "    <tr>\n",
              "      <th>Reco_Policy_Premium</th>\n",
              "      <td>0.000000</td>\n",
              "    </tr>\n",
              "    <tr>\n",
              "      <th>Response</th>\n",
              "      <td>0.000000</td>\n",
              "    </tr>\n",
              "  </tbody>\n",
              "</table>\n",
              "</div>"
            ],
            "text/plain": [
              "                         Missing data percentage\n",
              "ID                                      0.000000\n",
              "City_Code                               0.000000\n",
              "Region_Code                             0.000000\n",
              "Accomodation_Type                       0.000000\n",
              "Reco_Insurance_Type                     0.000000\n",
              "Upper_Age                               0.000000\n",
              "Lower_Age                               0.000000\n",
              "Is_Spouse                               0.000000\n",
              "Health Indicator                       22.976691\n",
              "Holding_Policy_Duration                39.799929\n",
              "Holding_Policy_Type                    39.799929\n",
              "Reco_Policy_Cat                         0.000000\n",
              "Reco_Policy_Premium                     0.000000\n",
              "Response                                0.000000"
            ]
          },
          "metadata": {
            "tags": []
          },
          "execution_count": 130
        }
      ]
    },
    {
      "cell_type": "code",
      "metadata": {
        "id": "6ftL0b0vHpfU"
      },
      "source": [
        "train = data.drop([\"ID\",\"Holding_Policy_Duration\",\"Holding_Policy_Type\",\"Health Indicator\"],axis=1)"
      ],
      "execution_count": null,
      "outputs": []
    },
    {
      "cell_type": "code",
      "metadata": {
        "id": "2tPvTbmW7Esd"
      },
      "source": [
        "def ChangeDataTypes(df):\r\n",
        "    df.City_Code = df.City_Code.astype('category')\r\n",
        "    df.Region_Code = df.Region_Code.astype('category')\r\n",
        "    df.Accomodation_Type = df.Accomodation_Type.astype('category')\r\n",
        "    df.Reco_Insurance_Type = df.Reco_Insurance_Type.astype('category')\r\n",
        "    df.Is_Spouse = df.Is_Spouse.astype('category')\r\n",
        "    df.Reco_Policy_Cat = df.Reco_Policy_Cat.astype('category')\r\n",
        "    try:\r\n",
        "        df.Response = df.Response.astype('category')\r\n",
        "    except:\r\n",
        "        pass\r\n",
        "\r\n",
        "ChangeDataTypes(train)"
      ],
      "execution_count": null,
      "outputs": []
    },
    {
      "cell_type": "code",
      "metadata": {
        "id": "ihlfdTMn4jqK"
      },
      "source": [
        "# for i in ['Upper_Age','Lower_Age','Reco_Policy_Premium']:\r\n",
        "#     plt.gcf().set_size_inches(10,3)\r\n",
        "#     sns.boxplot(data = df,x=i )\r\n",
        "#     plt.show()"
      ],
      "execution_count": null,
      "outputs": []
    },
    {
      "cell_type": "code",
      "metadata": {
        "id": "dp_-qmBx5AoA"
      },
      "source": [
        "# train.Reco_Policy_Premium.hist(bins= 100)"
      ],
      "execution_count": null,
      "outputs": []
    },
    {
      "cell_type": "code",
      "metadata": {
        "id": "nkcBjn4NTW6b"
      },
      "source": [
        "train = DoNormalization(train)"
      ],
      "execution_count": null,
      "outputs": []
    },
    {
      "cell_type": "code",
      "metadata": {
        "id": "nM3MDaJB9QNU"
      },
      "source": [
        "train = pd.get_dummies(train, columns=[i for i in train.columns if i not in ['Upper_Age','Lower_Age','Reco_Policy_Premium','Response'] ])"
      ],
      "execution_count": null,
      "outputs": []
    },
    {
      "cell_type": "code",
      "metadata": {
        "id": "F9g9f9fK5qIM"
      },
      "source": [
        "# from sklearn import preprocessing \r\n",
        "# label_encoder = preprocessing.LabelEncoder() \r\n",
        "\r\n",
        "# for i in cols:\r\n",
        "#     train[i] = label_encoder.fit_transform(train[i]) "
      ],
      "execution_count": null,
      "outputs": []
    },
    {
      "cell_type": "code",
      "metadata": {
        "colab": {
          "base_uri": "https://localhost:8080/"
        },
        "id": "UMJ-nmTceb2T",
        "outputId": "f0f9decb-c82b-459b-f515-d3328a2b1013"
      },
      "source": [
        "train.shape"
      ],
      "execution_count": null,
      "outputs": [
        {
          "output_type": "execute_result",
          "data": {
            "text/plain": [
              "(50882, 5384)"
            ]
          },
          "metadata": {
            "tags": []
          },
          "execution_count": 138
        }
      ]
    },
    {
      "cell_type": "code",
      "metadata": {
        "id": "2qb-2w_FslrJ"
      },
      "source": [
        "for i in  ['Reco_Policy_Premium']:\r\n",
        "    q75,q25 = np.percentile(train[i],[75,25])\r\n",
        "    iqr = q75-q25\r\n",
        "    min_bar = (q25-(1.5*iqr))\r\n",
        "    max_bar = (q75+(1.5*iqr))\r\n",
        "    train.loc[train[i]<min_bar,i] = np.nan\r\n",
        "    train.loc[train[i]>max_bar,i] = np.nan"
      ],
      "execution_count": null,
      "outputs": []
    },
    {
      "cell_type": "code",
      "metadata": {
        "id": "B6ZTmzZ4xQ5_"
      },
      "source": [
        "train = train.drop(['Upper_Age','Lower_Age'],axis=1)"
      ],
      "execution_count": null,
      "outputs": []
    },
    {
      "cell_type": "code",
      "metadata": {
        "id": "kuhaDDlxyEld"
      },
      "source": [
        "train.dropna(inplace=True)"
      ],
      "execution_count": null,
      "outputs": []
    },
    {
      "cell_type": "markdown",
      "metadata": {
        "id": "xDvXjesrRzeY"
      },
      "source": [
        "#testset"
      ]
    },
    {
      "cell_type": "code",
      "metadata": {
        "id": "k9IciPQgXvgg"
      },
      "source": [
        "test_id = pd.read_csv(\"https://raw.githubusercontent.com/AbshkPskr/Competitions/main/test_YCcRUnU.csv\")"
      ],
      "execution_count": null,
      "outputs": []
    },
    {
      "cell_type": "code",
      "metadata": {
        "id": "9nZ6cERvBMkf"
      },
      "source": [
        "test = pd.read_csv(\"https://raw.githubusercontent.com/AbshkPskr/Competitions/main/test_YCcRUnU.csv\")\r\n",
        "ChangeDataTypes(test)\r\n",
        "test = test.drop([\"ID\",\"Holding_Policy_Duration\",\"Holding_Policy_Type\",\"Health Indicator\"],axis=1)\r\n",
        "\r\n",
        "# for i in cols:\r\n",
        "#     test[i] = label_encoder.fit_transform(test[i]) \r\n",
        "test = pd.get_dummies(test, columns=[i for i in test.columns if i not in ['Upper_Age','Lower_Age','Reco_Policy_Premium','Response'] ])"
      ],
      "execution_count": null,
      "outputs": []
    },
    {
      "cell_type": "code",
      "metadata": {
        "id": "Rft4eIBSiBGI"
      },
      "source": [
        "df1 = pd.DataFrame()\r\n",
        "for i in train.columns:\r\n",
        "    try:\r\n",
        "        df1[i] = test[i]\r\n",
        "    except:\r\n",
        "        df1[i] = 0"
      ],
      "execution_count": null,
      "outputs": []
    },
    {
      "cell_type": "code",
      "metadata": {
        "id": "iwjnIX3uTmZW"
      },
      "source": [
        "df1 = df1.drop('Response',axis = 1)"
      ],
      "execution_count": null,
      "outputs": []
    },
    {
      "cell_type": "code",
      "metadata": {
        "id": "oOc-2DAD8D7f"
      },
      "source": [
        "test_data = DoNormalization(df1)"
      ],
      "execution_count": null,
      "outputs": []
    },
    {
      "cell_type": "code",
      "metadata": {
        "id": "YYy9CijY0nSb"
      },
      "source": [
        "test_data = test_data.drop(['Upper_Age','Lower_Age'],axis=1)"
      ],
      "execution_count": null,
      "outputs": []
    },
    {
      "cell_type": "markdown",
      "metadata": {
        "id": "H_plafrsbGsf"
      },
      "source": [
        "#trials"
      ]
    },
    {
      "cell_type": "code",
      "metadata": {
        "id": "XtXcY57MVcdG"
      },
      "source": [
        "xTrain,xTest,yTrain,yTest = CreateSample(train)"
      ],
      "execution_count": null,
      "outputs": []
    },
    {
      "cell_type": "code",
      "metadata": {
        "id": "Pv7qssFQkLFe"
      },
      "source": [
        "ModellingAndEvaluationClassification(xTrain,xTest,yTrain,yTest)"
      ],
      "execution_count": null,
      "outputs": []
    },
    {
      "cell_type": "code",
      "metadata": {
        "colab": {
          "base_uri": "https://localhost:8080/"
        },
        "id": "PGDTymaDwpvO",
        "outputId": "58ddce70-a4db-41ac-b940-68957182baa8"
      },
      "source": [
        "TestPredicts\r\n",
        "ConfusionMatries\r\n",
        "# AccuracyScores = []\r\n",
        "# ClassificationReports = []"
      ],
      "execution_count": null,
      "outputs": [
        {
          "output_type": "execute_result",
          "data": {
            "text/plain": [
              "[]"
            ]
          },
          "metadata": {
            "tags": []
          },
          "execution_count": 104
        }
      ]
    },
    {
      "cell_type": "code",
      "metadata": {
        "id": "Zg2PHcatbT5p"
      },
      "source": [
        "TestPredicts"
      ],
      "execution_count": null,
      "outputs": []
    },
    {
      "cell_type": "code",
      "metadata": {
        "colab": {
          "base_uri": "https://localhost:8080/"
        },
        "id": "VcWRg_JLj0ml",
        "outputId": "c1de1122-8c46-42e3-b149-0040e399f277"
      },
      "source": [
        "model = RandomForestClassifier()\r\n",
        "model.fit(xTrain,yTrain)"
      ],
      "execution_count": null,
      "outputs": [
        {
          "output_type": "execute_result",
          "data": {
            "text/plain": [
              "RandomForestClassifier(bootstrap=True, ccp_alpha=0.0, class_weight=None,\n",
              "                       criterion='gini', max_depth=None, max_features='auto',\n",
              "                       max_leaf_nodes=None, max_samples=None,\n",
              "                       min_impurity_decrease=0.0, min_impurity_split=None,\n",
              "                       min_samples_leaf=1, min_samples_split=2,\n",
              "                       min_weight_fraction_leaf=0.0, n_estimators=100,\n",
              "                       n_jobs=None, oob_score=False, random_state=None,\n",
              "                       verbose=0, warm_start=False)"
            ]
          },
          "metadata": {
            "tags": []
          },
          "execution_count": 149
        }
      ]
    },
    {
      "cell_type": "code",
      "metadata": {
        "id": "8h5r17TDngjY"
      },
      "source": [
        "def SaveFile():\r\n",
        "    df = pd.DataFrame({'ID':test_id.ID,'Response':model.predict(test_data)})\r\n",
        "    df.set_index('ID').to_csv('final3.csv')\r\n",
        "\r\n",
        "SaveFile()\r\n"
      ],
      "execution_count": null,
      "outputs": []
    },
    {
      "cell_type": "markdown",
      "metadata": {
        "id": "v2kCw5GKRuFG"
      },
      "source": [
        "#modelling"
      ]
    },
    {
      "cell_type": "code",
      "metadata": {
        "id": "ngTgJYJxVLP8"
      },
      "source": [
        "def DoNormalization(data):\r\n",
        "    for var in ['Upper_Age','Lower_Age','Reco_Policy_Premium']:\r\n",
        "        data[var]=(data[var]-data[var].min())/((data[var].max())-(data[var].min()))\r\n",
        "    return data"
      ],
      "execution_count": null,
      "outputs": []
    },
    {
      "cell_type": "code",
      "metadata": {
        "id": "Q1BCn8VLVAEQ"
      },
      "source": [
        "from sklearn.model_selection import train_test_split\r\n",
        "from sklearn.model_selection import StratifiedShuffleSplit\r\n",
        "\r\n",
        "def CreateSample(Data):\r\n",
        "    Target = 'Response'\r\n",
        "    InputData = Data.loc[:,Data.columns != Target]\r\n",
        "    InputLabel = Data[Target]\r\n",
        "    return train_test_split(InputData,InputLabel,test_size=0.2)"
      ],
      "execution_count": null,
      "outputs": []
    },
    {
      "cell_type": "code",
      "metadata": {
        "id": "0W6N6xpzRj6Z"
      },
      "source": [
        "from sklearn.linear_model import LogisticRegression\r\n",
        "from sklearn.tree import DecisionTreeClassifier\r\n",
        "from sklearn.ensemble import RandomForestClassifier\r\n",
        "from sklearn.neighbors import KNeighborsClassifier\r\n",
        "from sklearn.naive_bayes import GaussianNB\r\n",
        "from sklearn.linear_model import SGDClassifier\r\n",
        "from sklearn.svm import SVC\r\n",
        "\r\n",
        "modelsClassification = []\r\n",
        "modelsClassification.append(('LR ',LogisticRegression()))\r\n",
        "modelsClassification.append(('DTC',DecisionTreeClassifier()))\r\n",
        "modelsClassification.append(('RFC',RandomForestClassifier()))\r\n",
        "modelsClassification.append(('KNN',KNeighborsClassifier()))\r\n",
        "modelsClassification.append(('GNB',GaussianNB()))\r\n",
        "modelsClassification.append(('SGD',SGDClassifier()))\r\n",
        "modelsClassification.append(('SVC',SVC()))\r\n",
        "\r\n",
        "from sklearn.metrics import confusion_matrix \r\n",
        "from sklearn.metrics import accuracy_score \r\n",
        "from sklearn.metrics import classification_report \r\n",
        "\r\n",
        "TestPredicts = []\r\n",
        "ConfusionMatries = []\r\n",
        "AccuracyScores = []\r\n",
        "ClassificationReports = []\r\n",
        "\r\n",
        "def ModellingAndEvaluationClassification(xTrain,xTest,yTrain,yTest):\r\n",
        "    for name,model in modelsClassification:\r\n",
        "        model.fit(xTrain,yTrain)\r\n",
        "        predict = model.predict(xTest)\r\n",
        "        ConfusionMatries.append((name,confusion_matrix(yTest,predict)))\r\n",
        "        AccuracyScores.append((name,accuracy_score(yTest,predict)))        \r\n",
        "        ClassificationReports.append((name,classification_report(yTest,predict)))\r\n",
        "        # TestPredicts.append(pd.DataFrame({'ID':test_id.ID,'Response':model.predict(test)}).set_index('ID'))\r\n",
        "\r\n",
        "        \r\n",
        "    print('ConfusionMatrices:-')\r\n",
        "    for name, score in ConfusionMatries:\r\n",
        "        print(name,':')\r\n",
        "        print(score)\r\n",
        "        print()\r\n",
        "        \r\n",
        "    print('Accuracy Scores:-')        \r\n",
        "    for name, score in AccuracyScores:\r\n",
        "        print(name,':',score)   \r\n",
        "    \r\n",
        "    print()\r\n",
        "    print('Classification Reports:-')    \r\n",
        "    for name, score in ClassificationReports:\r\n",
        "        print(name,':')\r\n",
        "        print(score)\r\n",
        "        print()\r\n",
        "    "
      ],
      "execution_count": null,
      "outputs": []
    },
    {
      "cell_type": "code",
      "metadata": {
        "id": "kRxbbbtDcMr9"
      },
      "source": [
        ""
      ],
      "execution_count": null,
      "outputs": []
    }
  ]
}